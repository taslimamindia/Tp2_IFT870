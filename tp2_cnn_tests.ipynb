{
  "nbformat": 4,
  "nbformat_minor": 0,
  "metadata": {
    "colab": {
      "provenance": []
    },
    "kernelspec": {
      "name": "python3",
      "display_name": "Python 3"
    },
    "language_info": {
      "name": "python"
    }
  },
  "cells": [
    {
      "cell_type": "code",
      "execution_count": 1,
      "metadata": {
        "id": "J5xhUUmGm5H6"
      },
      "outputs": [],
      "source": [
        "import pandas as pd\n",
        "from sklearn.model_selection import train_test_split\n",
        "from sklearn.preprocessing import StandardScaler"
      ]
    },
    {
      "cell_type": "code",
      "source": [
        "data = pd.read_csv(\"final_data.csv\")\n"
      ],
      "metadata": {
        "id": "8pFsjip2nPuZ"
      },
      "execution_count": 2,
      "outputs": []
    },
    {
      "cell_type": "code",
      "source": [
        "# Sélectionner les colonnes de fonctionnalités et la colonne cible\n",
        "X = data.drop(['reordered'], axis=1)  # Supprimer la colonne cible pour les fonctionnalités\n",
        "y = data['reordered']"
      ],
      "metadata": {
        "id": "nHx4-LEsnWF_"
      },
      "execution_count": 3,
      "outputs": []
    },
    {
      "cell_type": "code",
      "source": [
        "X_train, X_test, y_train, y_test = train_test_split(X, y, test_size=0.2, random_state=42)\n"
      ],
      "metadata": {
        "id": "_bghjZZInckE"
      },
      "execution_count": 4,
      "outputs": []
    },
    {
      "cell_type": "code",
      "source": [
        "scaler = StandardScaler()\n",
        "X_train_scaled = scaler.fit_transform(X_train)\n",
        "X_test_scaled = scaler.transform(X_test)"
      ],
      "metadata": {
        "id": "_Ks8jP3MngSG"
      },
      "execution_count": 5,
      "outputs": []
    },
    {
      "cell_type": "code",
      "source": [
        "X_train_scaled = X_train_scaled.reshape(X_train_scaled.shape[0], X_train_scaled.shape[1], 1)\n",
        "X_test_scaled = X_test_scaled.reshape(X_test_scaled.shape[0], X_test_scaled.shape[1], 1)"
      ],
      "metadata": {
        "id": "Ce_oAv0HnjmU"
      },
      "execution_count": 6,
      "outputs": []
    },
    {
      "cell_type": "code",
      "source": [
        "!pip install -U jax"
      ],
      "metadata": {
        "colab": {
          "base_uri": "https://localhost:8080/"
        },
        "id": "nzp8-GAkE14J",
        "outputId": "6f13c5f5-e5f5-4225-bac8-142f482943ff"
      },
      "execution_count": 7,
      "outputs": [
        {
          "output_type": "stream",
          "name": "stdout",
          "text": [
            "Requirement already satisfied: jax in /usr/local/lib/python3.10/dist-packages (0.4.23)\n",
            "Collecting jax\n",
            "  Downloading jax-0.4.26-py3-none-any.whl (1.9 MB)\n",
            "\u001b[2K     \u001b[90m━━━━━━━━━━━━━━━━━━━━━━━━━━━━━━━━━━━━━━━━\u001b[0m \u001b[32m1.9/1.9 MB\u001b[0m \u001b[31m6.8 MB/s\u001b[0m eta \u001b[36m0:00:00\u001b[0m\n",
            "\u001b[?25hRequirement already satisfied: ml-dtypes>=0.2.0 in /usr/local/lib/python3.10/dist-packages (from jax) (0.2.0)\n",
            "Requirement already satisfied: numpy>=1.22 in /usr/local/lib/python3.10/dist-packages (from jax) (1.25.2)\n",
            "Requirement already satisfied: opt-einsum in /usr/local/lib/python3.10/dist-packages (from jax) (3.3.0)\n",
            "Requirement already satisfied: scipy>=1.9 in /usr/local/lib/python3.10/dist-packages (from jax) (1.11.4)\n",
            "Installing collected packages: jax\n",
            "  Attempting uninstall: jax\n",
            "    Found existing installation: jax 0.4.23\n",
            "    Uninstalling jax-0.4.23:\n",
            "      Successfully uninstalled jax-0.4.23\n",
            "Successfully installed jax-0.4.26\n"
          ]
        }
      ]
    },
    {
      "cell_type": "code",
      "source": [
        "import jax\n",
        "import tensorflow as tf\n",
        "from tensorflow.keras.models import Sequential\n",
        "from tensorflow.keras.layers import Conv1D, MaxPooling1D, Flatten, Dense"
      ],
      "metadata": {
        "id": "unB9X9A1FAlF"
      },
      "execution_count": 8,
      "outputs": []
    },
    {
      "cell_type": "code",
      "source": [
        "from tensorflow.keras.models import Sequential\n",
        "from tensorflow.keras.layers import Conv1D, MaxPooling1D, Flatten, Dense"
      ],
      "metadata": {
        "id": "kiNw1qq5EtmY"
      },
      "execution_count": 9,
      "outputs": []
    },
    {
      "cell_type": "code",
      "source": [
        "model = Sequential([\n",
        "    Conv1D(filters=64, kernel_size=2, activation='relu', input_shape=(X_train_scaled.shape[1], 1)),\n",
        "    MaxPooling1D(pool_size=2),\n",
        "    Flatten(),\n",
        "    Dense(64, activation='relu'),\n",
        "    Dense(2, activation='softmax')\n",
        "])"
      ],
      "metadata": {
        "id": "8vw6e4FOn3hc"
      },
      "execution_count": 10,
      "outputs": []
    },
    {
      "cell_type": "code",
      "source": [
        "model.compile(optimizer='adam', loss='binary_crossentropy', metrics=['accuracy','f1'])\n"
      ],
      "metadata": {
        "id": "6mSCCf-xn70a"
      },
      "execution_count": 11,
      "outputs": []
    },
    {
      "cell_type": "code",
      "source": [
        "pip install scikeras"
      ],
      "metadata": {
        "id": "cVG7jRL3qFkc",
        "colab": {
          "base_uri": "https://localhost:8080/"
        },
        "outputId": "b8bc2021-bdaa-4b3b-f2cf-dacaf845ddea"
      },
      "execution_count": 12,
      "outputs": [
        {
          "output_type": "stream",
          "name": "stdout",
          "text": [
            "Collecting scikeras\n",
            "  Downloading scikeras-0.12.0-py3-none-any.whl (27 kB)\n",
            "Requirement already satisfied: packaging>=0.21 in /usr/local/lib/python3.10/dist-packages (from scikeras) (24.0)\n",
            "Requirement already satisfied: scikit-learn>=1.0.0 in /usr/local/lib/python3.10/dist-packages (from scikeras) (1.2.2)\n",
            "Requirement already satisfied: numpy>=1.17.3 in /usr/local/lib/python3.10/dist-packages (from scikit-learn>=1.0.0->scikeras) (1.25.2)\n",
            "Requirement already satisfied: scipy>=1.3.2 in /usr/local/lib/python3.10/dist-packages (from scikit-learn>=1.0.0->scikeras) (1.11.4)\n",
            "Requirement already satisfied: joblib>=1.1.1 in /usr/local/lib/python3.10/dist-packages (from scikit-learn>=1.0.0->scikeras) (1.3.2)\n",
            "Requirement already satisfied: threadpoolctl>=2.0.0 in /usr/local/lib/python3.10/dist-packages (from scikit-learn>=1.0.0->scikeras) (3.4.0)\n",
            "Installing collected packages: scikeras\n",
            "Successfully installed scikeras-0.12.0\n"
          ]
        }
      ]
    },
    {
      "cell_type": "code",
      "source": [
        "from tensorflow.keras.models import Sequential\n",
        "from tensorflow.keras.layers import Conv1D, MaxPooling1D, Flatten, Dense\n",
        "from scikeras.wrappers import KerasClassifier\n"
      ],
      "metadata": {
        "id": "w-rVLjpAoBqb"
      },
      "execution_count": 13,
      "outputs": []
    },
    {
      "cell_type": "code",
      "source": [
        "import tensorflow as tf\n",
        "from tensorflow.keras.models import Sequential\n",
        "from tensorflow.keras.layers import Conv1D, MaxPooling1D, Flatten, Dense, Dropout\n",
        "\n",
        "# Définition de la fonction f1_score\n",
        "def f1_score(y_true, y_pred):\n",
        "    y_pred = tf.math.round(y_pred)  # Arrondir les prédictions à 0 ou 1\n",
        "    tp = tf.reduce_sum(tf.cast(y_true * y_pred, 'float'), axis=0)\n",
        "    tn = tf.reduce_sum(tf.cast((1 - y_true) * (1 - y_pred), 'float'), axis=0)\n",
        "    fp = tf.reduce_sum(tf.cast((1 - y_true) * y_pred, 'float'), axis=0)\n",
        "    fn = tf.reduce_sum(tf.cast(y_true * (1 - y_pred), 'float'), axis=0)\n",
        "\n",
        "    p = tp / (tp + fp + tf.keras.backend.epsilon())\n",
        "    r = tp / (tp + fn + tf.keras.backend.epsilon())\n",
        "\n",
        "    f1 = 2 * p * r / (p + r + tf.keras.backend.epsilon())\n",
        "    f1 = tf.where(tf.math.is_nan(f1), tf.zeros_like(f1), f1)\n",
        "    return tf.reduce_mean(f1)"
      ],
      "metadata": {
        "id": "F9IcgXA04flv"
      },
      "execution_count": 14,
      "outputs": []
    },
    {
      "cell_type": "code",
      "source": [
        "from tensorflow.keras.models import Sequential\n",
        "from tensorflow.keras.layers import Conv1D, MaxPooling1D, Flatten, Dense, Dropout\n",
        "from tensorflow.keras.optimizers import Adam, SGD, RMSprop\n",
        "\n",
        "def create_full_model(filters, kernel_size, dropout_rate, optimizer_name, learning_rate):\n",
        "    model = Sequential([\n",
        "        Conv1D(filters=filters, kernel_size=kernel_size, activation='relu', input_shape=(X_train_scaled.shape[1], 1)),\n",
        "        MaxPooling1D(pool_size=2),\n",
        "        Flatten(),\n",
        "        Dense(64, activation='relu'),\n",
        "        Dropout(dropout_rate),\n",
        "        Dense(1, activation='sigmoid')\n",
        "    ])\n",
        "\n",
        "    # Sélection et configuration de l'optimiseur\n",
        "    if optimizer_name == 'adam':\n",
        "        optimizer = Adam(learning_rate=learning_rate)\n",
        "    elif optimizer_name == 'sgd':\n",
        "        optimizer = SGD(learning_rate=learning_rate)\n",
        "    elif optimizer_name == 'rmsprop':\n",
        "        optimizer = RMSprop(learning_rate=learning_rate)\n",
        "    else:\n",
        "        raise ValueError(\"Optimiseur non supporté\")\n",
        "\n",
        "    model.compile(optimizer=optimizer, loss='binary_crossentropy', metrics=['accuracy', f1_score])\n",
        "    return model"
      ],
      "metadata": {
        "id": "es7ElDBnvRP_"
      },
      "execution_count": 15,
      "outputs": []
    },
    {
      "cell_type": "code",
      "source": [
        "filters_options = [32, 64]\n",
        "kernel_size_options = [2, 3]\n",
        "dropout_options = [0.25, 0.5]\n",
        "optimizers = ['adam', 'sgd', 'rmsprop']\n",
        "learning_rates = [0.001, 0.0001, 0.01]\n",
        "\n",
        "results = []\n",
        "\n",
        "for filters in filters_options:\n",
        "    for kernel_size in kernel_size_options:\n",
        "        for dropout_rate in dropout_options:\n",
        "            for optimizer in optimizers:\n",
        "                for lr in learning_rates:\n",
        "                    print(f\"Entraînement avec {filters} filtres, kernel_size={kernel_size}, dropout_rate={dropout_rate}, optimizer={optimizer}, lr={lr}\")\n",
        "                    model = create_full_model(filters=filters, kernel_size=kernel_size, dropout_rate=dropout_rate, optimizer_name=optimizer, learning_rate=lr)\n",
        "\n",
        "                    history = model.fit(X_train_scaled, y_train, epochs=10, validation_split=0.2, batch_size=32, verbose=0)\n",
        "                    score = model.evaluate(X_test_scaled, y_test, verbose=0)\n",
        "                    # Assurez-vous que l'index de score[2] correspond bien à votre score F1 si vous l'avez inclus dans les métriques du modèle\n",
        "                    results.append((filters, kernel_size, dropout_rate, optimizer, lr, score[2]))\n",
        "                    print(f\"Résultat pour {filters} filtres, kernel_size={kernel_size}, dropout_rate={dropout_rate}, optimizer={optimizer}, lr={lr}: F1-Score = {score[2]:.4f}\")\n",
        "\n",
        "# Affichage du résumé des résultats\n",
        "print(\"\\nRésumé des résultats:\")\n",
        "for result in results:\n",
        "    print(\"Filtres: {}, Taille de noyau: {}, Taux de dropout: {}, Optimiseur: {}, LR: {}, F1-Score: {:.4f}\".format(result[0], result[1], result[2], result[3], result[4], result[5]))"
      ],
      "metadata": {
        "id": "NUrVcnCwdoYs",
        "colab": {
          "base_uri": "https://localhost:8080/"
        },
        "outputId": "85d30705-3469-4a51-e530-c9a64e4db8ed"
      },
      "execution_count": 16,
      "outputs": [
        {
          "output_type": "stream",
          "name": "stdout",
          "text": [
            "Entraînement avec 32 filtres, kernel_size=2, dropout_rate=0.25, optimizer=adam, lr=0.001\n",
            "Résultat pour 32 filtres, kernel_size=2, dropout_rate=0.25, optimizer=adam, lr=0.001: F1-Score = 0.8853\n",
            "Entraînement avec 32 filtres, kernel_size=2, dropout_rate=0.25, optimizer=adam, lr=0.0001\n",
            "Résultat pour 32 filtres, kernel_size=2, dropout_rate=0.25, optimizer=adam, lr=0.0001: F1-Score = 0.8829\n",
            "Entraînement avec 32 filtres, kernel_size=2, dropout_rate=0.25, optimizer=adam, lr=0.01\n",
            "Résultat pour 32 filtres, kernel_size=2, dropout_rate=0.25, optimizer=adam, lr=0.01: F1-Score = 0.8853\n",
            "Entraînement avec 32 filtres, kernel_size=2, dropout_rate=0.25, optimizer=sgd, lr=0.001\n",
            "Résultat pour 32 filtres, kernel_size=2, dropout_rate=0.25, optimizer=sgd, lr=0.001: F1-Score = 0.8817\n",
            "Entraînement avec 32 filtres, kernel_size=2, dropout_rate=0.25, optimizer=sgd, lr=0.0001\n",
            "Résultat pour 32 filtres, kernel_size=2, dropout_rate=0.25, optimizer=sgd, lr=0.0001: F1-Score = 0.8809\n",
            "Entraînement avec 32 filtres, kernel_size=2, dropout_rate=0.25, optimizer=sgd, lr=0.01\n",
            "Résultat pour 32 filtres, kernel_size=2, dropout_rate=0.25, optimizer=sgd, lr=0.01: F1-Score = 0.8840\n",
            "Entraînement avec 32 filtres, kernel_size=2, dropout_rate=0.25, optimizer=rmsprop, lr=0.001\n",
            "Résultat pour 32 filtres, kernel_size=2, dropout_rate=0.25, optimizer=rmsprop, lr=0.001: F1-Score = 0.8846\n",
            "Entraînement avec 32 filtres, kernel_size=2, dropout_rate=0.25, optimizer=rmsprop, lr=0.0001\n",
            "Résultat pour 32 filtres, kernel_size=2, dropout_rate=0.25, optimizer=rmsprop, lr=0.0001: F1-Score = 0.8837\n",
            "Entraînement avec 32 filtres, kernel_size=2, dropout_rate=0.25, optimizer=rmsprop, lr=0.01\n",
            "Résultat pour 32 filtres, kernel_size=2, dropout_rate=0.25, optimizer=rmsprop, lr=0.01: F1-Score = 0.8847\n",
            "Entraînement avec 32 filtres, kernel_size=2, dropout_rate=0.5, optimizer=adam, lr=0.001\n",
            "Résultat pour 32 filtres, kernel_size=2, dropout_rate=0.5, optimizer=adam, lr=0.001: F1-Score = 0.8859\n",
            "Entraînement avec 32 filtres, kernel_size=2, dropout_rate=0.5, optimizer=adam, lr=0.0001\n",
            "Résultat pour 32 filtres, kernel_size=2, dropout_rate=0.5, optimizer=adam, lr=0.0001: F1-Score = 0.8845\n",
            "Entraînement avec 32 filtres, kernel_size=2, dropout_rate=0.5, optimizer=adam, lr=0.01\n",
            "Résultat pour 32 filtres, kernel_size=2, dropout_rate=0.5, optimizer=adam, lr=0.01: F1-Score = 0.8869\n",
            "Entraînement avec 32 filtres, kernel_size=2, dropout_rate=0.5, optimizer=sgd, lr=0.001\n",
            "Résultat pour 32 filtres, kernel_size=2, dropout_rate=0.5, optimizer=sgd, lr=0.001: F1-Score = 0.8833\n",
            "Entraînement avec 32 filtres, kernel_size=2, dropout_rate=0.5, optimizer=sgd, lr=0.0001\n",
            "Résultat pour 32 filtres, kernel_size=2, dropout_rate=0.5, optimizer=sgd, lr=0.0001: F1-Score = 0.8809\n",
            "Entraînement avec 32 filtres, kernel_size=2, dropout_rate=0.5, optimizer=sgd, lr=0.01\n",
            "Résultat pour 32 filtres, kernel_size=2, dropout_rate=0.5, optimizer=sgd, lr=0.01: F1-Score = 0.8841\n",
            "Entraînement avec 32 filtres, kernel_size=2, dropout_rate=0.5, optimizer=rmsprop, lr=0.001\n",
            "Résultat pour 32 filtres, kernel_size=2, dropout_rate=0.5, optimizer=rmsprop, lr=0.001: F1-Score = 0.8859\n",
            "Entraînement avec 32 filtres, kernel_size=2, dropout_rate=0.5, optimizer=rmsprop, lr=0.0001\n",
            "Résultat pour 32 filtres, kernel_size=2, dropout_rate=0.5, optimizer=rmsprop, lr=0.0001: F1-Score = 0.8829\n",
            "Entraînement avec 32 filtres, kernel_size=2, dropout_rate=0.5, optimizer=rmsprop, lr=0.01\n",
            "Résultat pour 32 filtres, kernel_size=2, dropout_rate=0.5, optimizer=rmsprop, lr=0.01: F1-Score = 0.8808\n",
            "Entraînement avec 32 filtres, kernel_size=3, dropout_rate=0.25, optimizer=adam, lr=0.001\n",
            "Résultat pour 32 filtres, kernel_size=3, dropout_rate=0.25, optimizer=adam, lr=0.001: F1-Score = 0.8845\n",
            "Entraînement avec 32 filtres, kernel_size=3, dropout_rate=0.25, optimizer=adam, lr=0.0001\n",
            "Résultat pour 32 filtres, kernel_size=3, dropout_rate=0.25, optimizer=adam, lr=0.0001: F1-Score = 0.8837\n",
            "Entraînement avec 32 filtres, kernel_size=3, dropout_rate=0.25, optimizer=adam, lr=0.01\n",
            "Résultat pour 32 filtres, kernel_size=3, dropout_rate=0.25, optimizer=adam, lr=0.01: F1-Score = 0.8846\n",
            "Entraînement avec 32 filtres, kernel_size=3, dropout_rate=0.25, optimizer=sgd, lr=0.001\n",
            "Résultat pour 32 filtres, kernel_size=3, dropout_rate=0.25, optimizer=sgd, lr=0.001: F1-Score = 0.8818\n",
            "Entraînement avec 32 filtres, kernel_size=3, dropout_rate=0.25, optimizer=sgd, lr=0.0001\n",
            "Résultat pour 32 filtres, kernel_size=3, dropout_rate=0.25, optimizer=sgd, lr=0.0001: F1-Score = 0.8809\n",
            "Entraînement avec 32 filtres, kernel_size=3, dropout_rate=0.25, optimizer=sgd, lr=0.01\n",
            "Résultat pour 32 filtres, kernel_size=3, dropout_rate=0.25, optimizer=sgd, lr=0.01: F1-Score = 0.8836\n",
            "Entraînement avec 32 filtres, kernel_size=3, dropout_rate=0.25, optimizer=rmsprop, lr=0.001\n",
            "Résultat pour 32 filtres, kernel_size=3, dropout_rate=0.25, optimizer=rmsprop, lr=0.001: F1-Score = 0.8806\n",
            "Entraînement avec 32 filtres, kernel_size=3, dropout_rate=0.25, optimizer=rmsprop, lr=0.0001\n",
            "Résultat pour 32 filtres, kernel_size=3, dropout_rate=0.25, optimizer=rmsprop, lr=0.0001: F1-Score = 0.8810\n",
            "Entraînement avec 32 filtres, kernel_size=3, dropout_rate=0.25, optimizer=rmsprop, lr=0.01\n",
            "Résultat pour 32 filtres, kernel_size=3, dropout_rate=0.25, optimizer=rmsprop, lr=0.01: F1-Score = 0.8826\n",
            "Entraînement avec 32 filtres, kernel_size=3, dropout_rate=0.5, optimizer=adam, lr=0.001\n",
            "Résultat pour 32 filtres, kernel_size=3, dropout_rate=0.5, optimizer=adam, lr=0.001: F1-Score = 0.8847\n",
            "Entraînement avec 32 filtres, kernel_size=3, dropout_rate=0.5, optimizer=adam, lr=0.0001\n",
            "Résultat pour 32 filtres, kernel_size=3, dropout_rate=0.5, optimizer=adam, lr=0.0001: F1-Score = 0.8818\n",
            "Entraînement avec 32 filtres, kernel_size=3, dropout_rate=0.5, optimizer=adam, lr=0.01\n",
            "Résultat pour 32 filtres, kernel_size=3, dropout_rate=0.5, optimizer=adam, lr=0.01: F1-Score = 0.8818\n",
            "Entraînement avec 32 filtres, kernel_size=3, dropout_rate=0.5, optimizer=sgd, lr=0.001\n",
            "Résultat pour 32 filtres, kernel_size=3, dropout_rate=0.5, optimizer=sgd, lr=0.001: F1-Score = 0.8821\n",
            "Entraînement avec 32 filtres, kernel_size=3, dropout_rate=0.5, optimizer=sgd, lr=0.0001\n",
            "Résultat pour 32 filtres, kernel_size=3, dropout_rate=0.5, optimizer=sgd, lr=0.0001: F1-Score = 0.8809\n",
            "Entraînement avec 32 filtres, kernel_size=3, dropout_rate=0.5, optimizer=sgd, lr=0.01\n",
            "Résultat pour 32 filtres, kernel_size=3, dropout_rate=0.5, optimizer=sgd, lr=0.01: F1-Score = 0.8833\n",
            "Entraînement avec 32 filtres, kernel_size=3, dropout_rate=0.5, optimizer=rmsprop, lr=0.001\n",
            "Résultat pour 32 filtres, kernel_size=3, dropout_rate=0.5, optimizer=rmsprop, lr=0.001: F1-Score = 0.8831\n",
            "Entraînement avec 32 filtres, kernel_size=3, dropout_rate=0.5, optimizer=rmsprop, lr=0.0001\n",
            "Résultat pour 32 filtres, kernel_size=3, dropout_rate=0.5, optimizer=rmsprop, lr=0.0001: F1-Score = 0.8823\n",
            "Entraînement avec 32 filtres, kernel_size=3, dropout_rate=0.5, optimizer=rmsprop, lr=0.01\n",
            "Résultat pour 32 filtres, kernel_size=3, dropout_rate=0.5, optimizer=rmsprop, lr=0.01: F1-Score = 0.8851\n",
            "Entraînement avec 64 filtres, kernel_size=2, dropout_rate=0.25, optimizer=adam, lr=0.001\n",
            "Résultat pour 64 filtres, kernel_size=2, dropout_rate=0.25, optimizer=adam, lr=0.001: F1-Score = 0.8843\n",
            "Entraînement avec 64 filtres, kernel_size=2, dropout_rate=0.25, optimizer=adam, lr=0.0001\n",
            "Résultat pour 64 filtres, kernel_size=2, dropout_rate=0.25, optimizer=adam, lr=0.0001: F1-Score = 0.8807\n",
            "Entraînement avec 64 filtres, kernel_size=2, dropout_rate=0.25, optimizer=adam, lr=0.01\n",
            "Résultat pour 64 filtres, kernel_size=2, dropout_rate=0.25, optimizer=adam, lr=0.01: F1-Score = 0.8856\n",
            "Entraînement avec 64 filtres, kernel_size=2, dropout_rate=0.25, optimizer=sgd, lr=0.001\n",
            "Résultat pour 64 filtres, kernel_size=2, dropout_rate=0.25, optimizer=sgd, lr=0.001: F1-Score = 0.8837\n",
            "Entraînement avec 64 filtres, kernel_size=2, dropout_rate=0.25, optimizer=sgd, lr=0.0001\n",
            "Résultat pour 64 filtres, kernel_size=2, dropout_rate=0.25, optimizer=sgd, lr=0.0001: F1-Score = 0.8809\n",
            "Entraînement avec 64 filtres, kernel_size=2, dropout_rate=0.25, optimizer=sgd, lr=0.01\n",
            "Résultat pour 64 filtres, kernel_size=2, dropout_rate=0.25, optimizer=sgd, lr=0.01: F1-Score = 0.8810\n",
            "Entraînement avec 64 filtres, kernel_size=2, dropout_rate=0.25, optimizer=rmsprop, lr=0.001\n",
            "Résultat pour 64 filtres, kernel_size=2, dropout_rate=0.25, optimizer=rmsprop, lr=0.001: F1-Score = 0.8761\n",
            "Entraînement avec 64 filtres, kernel_size=2, dropout_rate=0.25, optimizer=rmsprop, lr=0.0001\n",
            "Résultat pour 64 filtres, kernel_size=2, dropout_rate=0.25, optimizer=rmsprop, lr=0.0001: F1-Score = 0.8851\n",
            "Entraînement avec 64 filtres, kernel_size=2, dropout_rate=0.25, optimizer=rmsprop, lr=0.01\n",
            "Résultat pour 64 filtres, kernel_size=2, dropout_rate=0.25, optimizer=rmsprop, lr=0.01: F1-Score = 0.8792\n",
            "Entraînement avec 64 filtres, kernel_size=2, dropout_rate=0.5, optimizer=adam, lr=0.001\n",
            "Résultat pour 64 filtres, kernel_size=2, dropout_rate=0.5, optimizer=adam, lr=0.001: F1-Score = 0.8848\n",
            "Entraînement avec 64 filtres, kernel_size=2, dropout_rate=0.5, optimizer=adam, lr=0.0001\n",
            "Résultat pour 64 filtres, kernel_size=2, dropout_rate=0.5, optimizer=adam, lr=0.0001: F1-Score = 0.8823\n",
            "Entraînement avec 64 filtres, kernel_size=2, dropout_rate=0.5, optimizer=adam, lr=0.01\n",
            "Résultat pour 64 filtres, kernel_size=2, dropout_rate=0.5, optimizer=adam, lr=0.01: F1-Score = 0.8809\n",
            "Entraînement avec 64 filtres, kernel_size=2, dropout_rate=0.5, optimizer=sgd, lr=0.001\n",
            "Résultat pour 64 filtres, kernel_size=2, dropout_rate=0.5, optimizer=sgd, lr=0.001: F1-Score = 0.8826\n",
            "Entraînement avec 64 filtres, kernel_size=2, dropout_rate=0.5, optimizer=sgd, lr=0.0001\n",
            "Résultat pour 64 filtres, kernel_size=2, dropout_rate=0.5, optimizer=sgd, lr=0.0001: F1-Score = 0.8809\n",
            "Entraînement avec 64 filtres, kernel_size=2, dropout_rate=0.5, optimizer=sgd, lr=0.01\n",
            "Résultat pour 64 filtres, kernel_size=2, dropout_rate=0.5, optimizer=sgd, lr=0.01: F1-Score = 0.8850\n",
            "Entraînement avec 64 filtres, kernel_size=2, dropout_rate=0.5, optimizer=rmsprop, lr=0.001\n",
            "Résultat pour 64 filtres, kernel_size=2, dropout_rate=0.5, optimizer=rmsprop, lr=0.001: F1-Score = 0.8859\n",
            "Entraînement avec 64 filtres, kernel_size=2, dropout_rate=0.5, optimizer=rmsprop, lr=0.0001\n",
            "Résultat pour 64 filtres, kernel_size=2, dropout_rate=0.5, optimizer=rmsprop, lr=0.0001: F1-Score = 0.8850\n",
            "Entraînement avec 64 filtres, kernel_size=2, dropout_rate=0.5, optimizer=rmsprop, lr=0.01\n",
            "Résultat pour 64 filtres, kernel_size=2, dropout_rate=0.5, optimizer=rmsprop, lr=0.01: F1-Score = 0.8850\n",
            "Entraînement avec 64 filtres, kernel_size=3, dropout_rate=0.25, optimizer=adam, lr=0.001\n",
            "Résultat pour 64 filtres, kernel_size=3, dropout_rate=0.25, optimizer=adam, lr=0.001: F1-Score = 0.8848\n",
            "Entraînement avec 64 filtres, kernel_size=3, dropout_rate=0.25, optimizer=adam, lr=0.0001\n",
            "Résultat pour 64 filtres, kernel_size=3, dropout_rate=0.25, optimizer=adam, lr=0.0001: F1-Score = 0.8826\n",
            "Entraînement avec 64 filtres, kernel_size=3, dropout_rate=0.25, optimizer=adam, lr=0.01\n",
            "Résultat pour 64 filtres, kernel_size=3, dropout_rate=0.25, optimizer=adam, lr=0.01: F1-Score = 0.8845\n",
            "Entraînement avec 64 filtres, kernel_size=3, dropout_rate=0.25, optimizer=sgd, lr=0.001\n",
            "Résultat pour 64 filtres, kernel_size=3, dropout_rate=0.25, optimizer=sgd, lr=0.001: F1-Score = 0.8814\n",
            "Entraînement avec 64 filtres, kernel_size=3, dropout_rate=0.25, optimizer=sgd, lr=0.0001\n",
            "Résultat pour 64 filtres, kernel_size=3, dropout_rate=0.25, optimizer=sgd, lr=0.0001: F1-Score = 0.8809\n",
            "Entraînement avec 64 filtres, kernel_size=3, dropout_rate=0.25, optimizer=sgd, lr=0.01\n",
            "Résultat pour 64 filtres, kernel_size=3, dropout_rate=0.25, optimizer=sgd, lr=0.01: F1-Score = 0.8842\n",
            "Entraînement avec 64 filtres, kernel_size=3, dropout_rate=0.25, optimizer=rmsprop, lr=0.001\n",
            "Résultat pour 64 filtres, kernel_size=3, dropout_rate=0.25, optimizer=rmsprop, lr=0.001: F1-Score = 0.8821\n",
            "Entraînement avec 64 filtres, kernel_size=3, dropout_rate=0.25, optimizer=rmsprop, lr=0.0001\n",
            "Résultat pour 64 filtres, kernel_size=3, dropout_rate=0.25, optimizer=rmsprop, lr=0.0001: F1-Score = 0.8817\n",
            "Entraînement avec 64 filtres, kernel_size=3, dropout_rate=0.25, optimizer=rmsprop, lr=0.01\n",
            "Résultat pour 64 filtres, kernel_size=3, dropout_rate=0.25, optimizer=rmsprop, lr=0.01: F1-Score = 0.8856\n",
            "Entraînement avec 64 filtres, kernel_size=3, dropout_rate=0.5, optimizer=adam, lr=0.001\n",
            "Résultat pour 64 filtres, kernel_size=3, dropout_rate=0.5, optimizer=adam, lr=0.001: F1-Score = 0.8817\n",
            "Entraînement avec 64 filtres, kernel_size=3, dropout_rate=0.5, optimizer=adam, lr=0.0001\n",
            "Résultat pour 64 filtres, kernel_size=3, dropout_rate=0.5, optimizer=adam, lr=0.0001: F1-Score = 0.8830\n",
            "Entraînement avec 64 filtres, kernel_size=3, dropout_rate=0.5, optimizer=adam, lr=0.01\n",
            "Résultat pour 64 filtres, kernel_size=3, dropout_rate=0.5, optimizer=adam, lr=0.01: F1-Score = 0.8841\n",
            "Entraînement avec 64 filtres, kernel_size=3, dropout_rate=0.5, optimizer=sgd, lr=0.001\n",
            "Résultat pour 64 filtres, kernel_size=3, dropout_rate=0.5, optimizer=sgd, lr=0.001: F1-Score = 0.8826\n",
            "Entraînement avec 64 filtres, kernel_size=3, dropout_rate=0.5, optimizer=sgd, lr=0.0001\n",
            "Résultat pour 64 filtres, kernel_size=3, dropout_rate=0.5, optimizer=sgd, lr=0.0001: F1-Score = 0.8809\n",
            "Entraînement avec 64 filtres, kernel_size=3, dropout_rate=0.5, optimizer=sgd, lr=0.01\n",
            "Résultat pour 64 filtres, kernel_size=3, dropout_rate=0.5, optimizer=sgd, lr=0.01: F1-Score = 0.8838\n",
            "Entraînement avec 64 filtres, kernel_size=3, dropout_rate=0.5, optimizer=rmsprop, lr=0.001\n",
            "Résultat pour 64 filtres, kernel_size=3, dropout_rate=0.5, optimizer=rmsprop, lr=0.001: F1-Score = 0.8826\n",
            "Entraînement avec 64 filtres, kernel_size=3, dropout_rate=0.5, optimizer=rmsprop, lr=0.0001\n",
            "Résultat pour 64 filtres, kernel_size=3, dropout_rate=0.5, optimizer=rmsprop, lr=0.0001: F1-Score = 0.8841\n",
            "Entraînement avec 64 filtres, kernel_size=3, dropout_rate=0.5, optimizer=rmsprop, lr=0.01\n",
            "Résultat pour 64 filtres, kernel_size=3, dropout_rate=0.5, optimizer=rmsprop, lr=0.01: F1-Score = 0.8840\n",
            "\n",
            "Résumé des résultats:\n",
            "Filtres: 32, Taille de noyau: 2, Taux de dropout: 0.25, Optimiseur: adam, LR: 0.001, F1-Score: 0.8853\n",
            "Filtres: 32, Taille de noyau: 2, Taux de dropout: 0.25, Optimiseur: adam, LR: 0.0001, F1-Score: 0.8829\n",
            "Filtres: 32, Taille de noyau: 2, Taux de dropout: 0.25, Optimiseur: adam, LR: 0.01, F1-Score: 0.8853\n",
            "Filtres: 32, Taille de noyau: 2, Taux de dropout: 0.25, Optimiseur: sgd, LR: 0.001, F1-Score: 0.8817\n",
            "Filtres: 32, Taille de noyau: 2, Taux de dropout: 0.25, Optimiseur: sgd, LR: 0.0001, F1-Score: 0.8809\n",
            "Filtres: 32, Taille de noyau: 2, Taux de dropout: 0.25, Optimiseur: sgd, LR: 0.01, F1-Score: 0.8840\n",
            "Filtres: 32, Taille de noyau: 2, Taux de dropout: 0.25, Optimiseur: rmsprop, LR: 0.001, F1-Score: 0.8846\n",
            "Filtres: 32, Taille de noyau: 2, Taux de dropout: 0.25, Optimiseur: rmsprop, LR: 0.0001, F1-Score: 0.8837\n",
            "Filtres: 32, Taille de noyau: 2, Taux de dropout: 0.25, Optimiseur: rmsprop, LR: 0.01, F1-Score: 0.8847\n",
            "Filtres: 32, Taille de noyau: 2, Taux de dropout: 0.5, Optimiseur: adam, LR: 0.001, F1-Score: 0.8859\n",
            "Filtres: 32, Taille de noyau: 2, Taux de dropout: 0.5, Optimiseur: adam, LR: 0.0001, F1-Score: 0.8845\n",
            "Filtres: 32, Taille de noyau: 2, Taux de dropout: 0.5, Optimiseur: adam, LR: 0.01, F1-Score: 0.8869\n",
            "Filtres: 32, Taille de noyau: 2, Taux de dropout: 0.5, Optimiseur: sgd, LR: 0.001, F1-Score: 0.8833\n",
            "Filtres: 32, Taille de noyau: 2, Taux de dropout: 0.5, Optimiseur: sgd, LR: 0.0001, F1-Score: 0.8809\n",
            "Filtres: 32, Taille de noyau: 2, Taux de dropout: 0.5, Optimiseur: sgd, LR: 0.01, F1-Score: 0.8841\n",
            "Filtres: 32, Taille de noyau: 2, Taux de dropout: 0.5, Optimiseur: rmsprop, LR: 0.001, F1-Score: 0.8859\n",
            "Filtres: 32, Taille de noyau: 2, Taux de dropout: 0.5, Optimiseur: rmsprop, LR: 0.0001, F1-Score: 0.8829\n",
            "Filtres: 32, Taille de noyau: 2, Taux de dropout: 0.5, Optimiseur: rmsprop, LR: 0.01, F1-Score: 0.8808\n",
            "Filtres: 32, Taille de noyau: 3, Taux de dropout: 0.25, Optimiseur: adam, LR: 0.001, F1-Score: 0.8845\n",
            "Filtres: 32, Taille de noyau: 3, Taux de dropout: 0.25, Optimiseur: adam, LR: 0.0001, F1-Score: 0.8837\n",
            "Filtres: 32, Taille de noyau: 3, Taux de dropout: 0.25, Optimiseur: adam, LR: 0.01, F1-Score: 0.8846\n",
            "Filtres: 32, Taille de noyau: 3, Taux de dropout: 0.25, Optimiseur: sgd, LR: 0.001, F1-Score: 0.8818\n",
            "Filtres: 32, Taille de noyau: 3, Taux de dropout: 0.25, Optimiseur: sgd, LR: 0.0001, F1-Score: 0.8809\n",
            "Filtres: 32, Taille de noyau: 3, Taux de dropout: 0.25, Optimiseur: sgd, LR: 0.01, F1-Score: 0.8836\n",
            "Filtres: 32, Taille de noyau: 3, Taux de dropout: 0.25, Optimiseur: rmsprop, LR: 0.001, F1-Score: 0.8806\n",
            "Filtres: 32, Taille de noyau: 3, Taux de dropout: 0.25, Optimiseur: rmsprop, LR: 0.0001, F1-Score: 0.8810\n",
            "Filtres: 32, Taille de noyau: 3, Taux de dropout: 0.25, Optimiseur: rmsprop, LR: 0.01, F1-Score: 0.8826\n",
            "Filtres: 32, Taille de noyau: 3, Taux de dropout: 0.5, Optimiseur: adam, LR: 0.001, F1-Score: 0.8847\n",
            "Filtres: 32, Taille de noyau: 3, Taux de dropout: 0.5, Optimiseur: adam, LR: 0.0001, F1-Score: 0.8818\n",
            "Filtres: 32, Taille de noyau: 3, Taux de dropout: 0.5, Optimiseur: adam, LR: 0.01, F1-Score: 0.8818\n",
            "Filtres: 32, Taille de noyau: 3, Taux de dropout: 0.5, Optimiseur: sgd, LR: 0.001, F1-Score: 0.8821\n",
            "Filtres: 32, Taille de noyau: 3, Taux de dropout: 0.5, Optimiseur: sgd, LR: 0.0001, F1-Score: 0.8809\n",
            "Filtres: 32, Taille de noyau: 3, Taux de dropout: 0.5, Optimiseur: sgd, LR: 0.01, F1-Score: 0.8833\n",
            "Filtres: 32, Taille de noyau: 3, Taux de dropout: 0.5, Optimiseur: rmsprop, LR: 0.001, F1-Score: 0.8831\n",
            "Filtres: 32, Taille de noyau: 3, Taux de dropout: 0.5, Optimiseur: rmsprop, LR: 0.0001, F1-Score: 0.8823\n",
            "Filtres: 32, Taille de noyau: 3, Taux de dropout: 0.5, Optimiseur: rmsprop, LR: 0.01, F1-Score: 0.8851\n",
            "Filtres: 64, Taille de noyau: 2, Taux de dropout: 0.25, Optimiseur: adam, LR: 0.001, F1-Score: 0.8843\n",
            "Filtres: 64, Taille de noyau: 2, Taux de dropout: 0.25, Optimiseur: adam, LR: 0.0001, F1-Score: 0.8807\n",
            "Filtres: 64, Taille de noyau: 2, Taux de dropout: 0.25, Optimiseur: adam, LR: 0.01, F1-Score: 0.8856\n",
            "Filtres: 64, Taille de noyau: 2, Taux de dropout: 0.25, Optimiseur: sgd, LR: 0.001, F1-Score: 0.8837\n",
            "Filtres: 64, Taille de noyau: 2, Taux de dropout: 0.25, Optimiseur: sgd, LR: 0.0001, F1-Score: 0.8809\n",
            "Filtres: 64, Taille de noyau: 2, Taux de dropout: 0.25, Optimiseur: sgd, LR: 0.01, F1-Score: 0.8810\n",
            "Filtres: 64, Taille de noyau: 2, Taux de dropout: 0.25, Optimiseur: rmsprop, LR: 0.001, F1-Score: 0.8761\n",
            "Filtres: 64, Taille de noyau: 2, Taux de dropout: 0.25, Optimiseur: rmsprop, LR: 0.0001, F1-Score: 0.8851\n",
            "Filtres: 64, Taille de noyau: 2, Taux de dropout: 0.25, Optimiseur: rmsprop, LR: 0.01, F1-Score: 0.8792\n",
            "Filtres: 64, Taille de noyau: 2, Taux de dropout: 0.5, Optimiseur: adam, LR: 0.001, F1-Score: 0.8848\n",
            "Filtres: 64, Taille de noyau: 2, Taux de dropout: 0.5, Optimiseur: adam, LR: 0.0001, F1-Score: 0.8823\n",
            "Filtres: 64, Taille de noyau: 2, Taux de dropout: 0.5, Optimiseur: adam, LR: 0.01, F1-Score: 0.8809\n",
            "Filtres: 64, Taille de noyau: 2, Taux de dropout: 0.5, Optimiseur: sgd, LR: 0.001, F1-Score: 0.8826\n",
            "Filtres: 64, Taille de noyau: 2, Taux de dropout: 0.5, Optimiseur: sgd, LR: 0.0001, F1-Score: 0.8809\n",
            "Filtres: 64, Taille de noyau: 2, Taux de dropout: 0.5, Optimiseur: sgd, LR: 0.01, F1-Score: 0.8850\n",
            "Filtres: 64, Taille de noyau: 2, Taux de dropout: 0.5, Optimiseur: rmsprop, LR: 0.001, F1-Score: 0.8859\n",
            "Filtres: 64, Taille de noyau: 2, Taux de dropout: 0.5, Optimiseur: rmsprop, LR: 0.0001, F1-Score: 0.8850\n",
            "Filtres: 64, Taille de noyau: 2, Taux de dropout: 0.5, Optimiseur: rmsprop, LR: 0.01, F1-Score: 0.8850\n",
            "Filtres: 64, Taille de noyau: 3, Taux de dropout: 0.25, Optimiseur: adam, LR: 0.001, F1-Score: 0.8848\n",
            "Filtres: 64, Taille de noyau: 3, Taux de dropout: 0.25, Optimiseur: adam, LR: 0.0001, F1-Score: 0.8826\n",
            "Filtres: 64, Taille de noyau: 3, Taux de dropout: 0.25, Optimiseur: adam, LR: 0.01, F1-Score: 0.8845\n",
            "Filtres: 64, Taille de noyau: 3, Taux de dropout: 0.25, Optimiseur: sgd, LR: 0.001, F1-Score: 0.8814\n",
            "Filtres: 64, Taille de noyau: 3, Taux de dropout: 0.25, Optimiseur: sgd, LR: 0.0001, F1-Score: 0.8809\n",
            "Filtres: 64, Taille de noyau: 3, Taux de dropout: 0.25, Optimiseur: sgd, LR: 0.01, F1-Score: 0.8842\n",
            "Filtres: 64, Taille de noyau: 3, Taux de dropout: 0.25, Optimiseur: rmsprop, LR: 0.001, F1-Score: 0.8821\n",
            "Filtres: 64, Taille de noyau: 3, Taux de dropout: 0.25, Optimiseur: rmsprop, LR: 0.0001, F1-Score: 0.8817\n",
            "Filtres: 64, Taille de noyau: 3, Taux de dropout: 0.25, Optimiseur: rmsprop, LR: 0.01, F1-Score: 0.8856\n",
            "Filtres: 64, Taille de noyau: 3, Taux de dropout: 0.5, Optimiseur: adam, LR: 0.001, F1-Score: 0.8817\n",
            "Filtres: 64, Taille de noyau: 3, Taux de dropout: 0.5, Optimiseur: adam, LR: 0.0001, F1-Score: 0.8830\n",
            "Filtres: 64, Taille de noyau: 3, Taux de dropout: 0.5, Optimiseur: adam, LR: 0.01, F1-Score: 0.8841\n",
            "Filtres: 64, Taille de noyau: 3, Taux de dropout: 0.5, Optimiseur: sgd, LR: 0.001, F1-Score: 0.8826\n",
            "Filtres: 64, Taille de noyau: 3, Taux de dropout: 0.5, Optimiseur: sgd, LR: 0.0001, F1-Score: 0.8809\n",
            "Filtres: 64, Taille de noyau: 3, Taux de dropout: 0.5, Optimiseur: sgd, LR: 0.01, F1-Score: 0.8838\n",
            "Filtres: 64, Taille de noyau: 3, Taux de dropout: 0.5, Optimiseur: rmsprop, LR: 0.001, F1-Score: 0.8826\n",
            "Filtres: 64, Taille de noyau: 3, Taux de dropout: 0.5, Optimiseur: rmsprop, LR: 0.0001, F1-Score: 0.8841\n",
            "Filtres: 64, Taille de noyau: 3, Taux de dropout: 0.5, Optimiseur: rmsprop, LR: 0.01, F1-Score: 0.8840\n"
          ]
        }
      ]
    },
    {
      "cell_type": "code",
      "source": [],
      "metadata": {
        "id": "vlh9lZ5n2pv7"
      },
      "execution_count": 16,
      "outputs": []
    }
  ]
}